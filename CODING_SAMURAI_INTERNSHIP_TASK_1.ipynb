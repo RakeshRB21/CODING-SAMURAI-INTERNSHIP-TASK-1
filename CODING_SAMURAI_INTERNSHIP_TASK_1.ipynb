{
  "nbformat": 4,
  "nbformat_minor": 0,
  "metadata": {
    "colab": {
      "provenance": []
    },
    "kernelspec": {
      "name": "python3",
      "display_name": "Python 3"
    },
    "language_info": {
      "name": "python"
    }
  },
  "cells": [
    {
      "cell_type": "code",
      "source": [
        "import numpy as np\n",
        "import pandas as pd\n",
        "import matplotlib.pyplot as plt\n",
        "import seaborn as sns\n"
      ],
      "metadata": {
        "id": "XK87AgJMQAnP"
      },
      "execution_count": 1,
      "outputs": []
    },
    {
      "cell_type": "code",
      "execution_count": 11,
      "metadata": {
        "colab": {
          "base_uri": "https://localhost:8080/"
        },
        "id": "JUZPt4PnP_bM",
        "outputId": "59bf6fee-f15a-4f23-87be-da14cc9c2011"
      },
      "outputs": [
        {
          "output_type": "stream",
          "name": "stdout",
          "text": [
            "Accuracy: 1.00\n",
            "Predicted species: Iris-setosa\n"
          ]
        }
      ],
      "source": [
        "import warnings\n",
        "warnings.filterwarnings(\"ignore\", message=\"X does not have valid feature names, but KNeighborsClassifier was fitted with feature names\")\n",
        "\n",
        "df=pd.read_csv(\"/content/Iris.csv\")\n",
        "# Step 1: Pre-process the dataset\n",
        "from sklearn.model_selection import train_test_split\n",
        "X = df.drop('Species' ,axis=1)\n",
        "y = df['Species']\n",
        "X_train, X_test, y_train, y_test = train_test_split(X, y, test_size=0.2, random_state=42)\n",
        "\n",
        "# Step 2: Choose a machine learning algorithm; For this example, let's use the k-nearest neighbors (KNN) algorithm.\n",
        "from sklearn.neighbors import KNeighborsClassifier\n",
        "knn_classifier = KNeighborsClassifier(n_neighbors=3)\n",
        "\n",
        "# Step 3: Train the model\n",
        "knn_classifier.fit(X_train, y_train)\n",
        "\n",
        "# Step 4: Evaluate the model\n",
        "from sklearn.metrics import accuracy_score\n",
        "y_pred = knn_classifier.predict(X_test)\n",
        "accuracy = accuracy_score(y_test, y_pred)\n",
        "print(f\"Accuracy: {accuracy:.2f}\")\n",
        "\n",
        "# Step 5: Make predictions on new data\n",
        "# Provide sepal length, sepal width, petal length, petal width\n",
        "new_data = [[6,5.1, 3.5, 1.4, 0.2]]\n",
        "predicted_species = knn_classifier.predict(new_data)\n",
        "print(f\"Predicted species: {predicted_species[0]}\")\n"
      ]
    }
  ]
}